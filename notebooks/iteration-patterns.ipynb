{
 "cells": [
  {
   "cell_type": "markdown",
   "metadata": {},
   "source": [
    "# Iteration Patterns – map, filter, and reduce"
   ]
  },
  {
   "cell_type": "markdown",
   "metadata": {},
   "source": [
    "You've learned three **ways** to iterate:\n",
    "\n",
    "1. Using a `while` loop:\n",
    "    ```python\n",
    "    i = 0\n",
    "    while i < len(lst):\n",
    "        // do something with lst[i]\n",
    "    ```\n",
    "2. Using a `for` loop with `range`:\n",
    "    ```python\n",
    "    for i in range(len(lst)):\n",
    "        // do something with lst[i]\n",
    "    ```\n",
    "3. Using a `for` loop *without* `range`:\n",
    "    ```python\n",
    "    for item in lst:\n",
    "        // do something with item\n",
    "    ```\n",
    "\n",
    "This page discusses three **uses** for iteration:\n",
    "\n",
    "**Mapping**\n",
    "\n",
    "To apply a transformation to every item in a list, and collect the transformed elements. This operation is called **map**.\n",
    "\n",
    "For example, mapping the operation \"add ten\" across every item in the list \\[2, 4, 6\\] produces the list \\[12, 14, 16\\].\n",
    "\n",
    "**Filter**\n",
    "\n",
    "To narrow the list down to only those items that meet a certain criterion. This operation is called **filter** or **select**, or (if the criterion is expressed as which items *not* to include) **reject**.\n",
    "\n",
    "For example, filtering or selecting the list \\[2, 4, 6, 8\\] against the criterion \"is greater than 5\" produces the list \\[6, 8\\]. *Rejecting* the items of \\[2, 4, 6, 8\\] that match the criterion \"is greater than 5\" produces the list \\[2, 4\\].\n",
    "\n",
    "**Reduce**\n",
    "\n",
    "Combining the items in a list into a single value. This operation is called **reduce** or **fold**.\n",
    "\n",
    "For example, using addition to reduce \\[2, 4, 6\\] produces the result $2 + 4 + 6 = 12$. Using multiplication produces $2 \\times 4 \\times 6 = 24$.\n",
    "\n",
    "Note 1: If you want to show off, you can also call this a [catamorphism](https://en.wikipedia.org/wiki/Catamorphism).\n",
    "\n",
    "Note 2: *In general*, it can matter whether you reduce left-to-right or right-to-left – whether you use a **left fold** or a **right fold**. With addition, and with multiplication of integers, it doesn't: $(2 + 4) + 6 = 2 + (4 + 6)$. Reduce and fold generally go left-to-right, unless otherwise specified.\n",
    "\n",
    "There are other reasons to iterate, but these three are so common that they have names. (In fact, more than one, as you can see.)"
   ]
  },
  {
   "cell_type": "markdown",
   "metadata": {},
   "source": [
    "# Map\n",
    "\n",
    "*Mapping* applies a modification to each element in a list.\n",
    "\n",
    "There's two ways to do this:\n",
    "1. modify the original list\n",
    "2. return a new list.\n",
    "\n",
    "These correspond to `chop` and `middle` from first reading journal."
   ]
  },
  {
   "cell_type": "markdown",
   "metadata": {},
   "source": [
    "### A map that modifies its argument"
   ]
  },
  {
   "cell_type": "markdown",
   "metadata": {},
   "source": [
    "This function modifies its argument:"
   ]
  },
  {
   "cell_type": "code",
   "execution_count": 50,
   "metadata": {},
   "outputs": [
    {
     "name": "stdout",
     "output_type": "stream",
     "text": [
      "add_ten returns None\n",
      "lst = [12, 14, 16]\n"
     ]
    }
   ],
   "source": [
    "def add_ten(ns):\n",
    "    \"\"\"Add ten to each of the numbers in a list.\n",
    "    This function modifies its argument.\"\"\"\n",
    "    i = 0\n",
    "    while i < len(ns):\n",
    "        ns[i] = ns[i] + 10\n",
    "        i = i + 1\n",
    "\n",
    "lst = [2, 4, 6]\n",
    "print('add_ten returns', add_ten(lst))  # `add_one` is a fruitless function. It returns None.\n",
    "print('lst =', lst)                     # lst has been modified."
   ]
  },
  {
   "cell_type": "markdown",
   "metadata": {},
   "source": [
    "Here's an implementation of the same specification, that uses `for` and `range`:"
   ]
  },
  {
   "cell_type": "code",
   "execution_count": 49,
   "metadata": {},
   "outputs": [
    {
     "name": "stdout",
     "output_type": "stream",
     "text": [
      "add_ten returns None\n",
      "lst = [12, 14, 16]\n"
     ]
    }
   ],
   "source": [
    "def add_ten(ns):\n",
    "    for i in range(len(ns)):\n",
    "        ns[i] = ns[i] + 10\n",
    "\n",
    "lst = [2, 4, 6]\n",
    "print('add_ten returns', add_ten(lst))  # `add_one` is a fruitless function. It returns None.\n",
    "print('lst =', lst)                     # lst has been modified."
   ]
  },
  {
   "cell_type": "markdown",
   "metadata": {},
   "source": [
    "A third implementation, with `for` and `enumerate`:"
   ]
  },
  {
   "cell_type": "code",
   "execution_count": 47,
   "metadata": {},
   "outputs": [
    {
     "name": "stdout",
     "output_type": "stream",
     "text": [
      "add_ten returns None\n",
      "lst = [12, 14, 16]\n"
     ]
    }
   ],
   "source": [
    "def add_ten(ns):\n",
    "    for i, n in enumerate(ns):\n",
    "        ns[i] = n + 10\n",
    "\n",
    "lst = [2, 4, 6]\n",
    "print('add_ten returns', add_ten(lst))  # `add_one` is a fruitless function. It returns None.\n",
    "print('lst =', lst)                     # lst has been modified."
   ]
  },
  {
   "cell_type": "markdown",
   "metadata": {},
   "source": [
    "### A map that creates a new list"
   ]
  },
  {
   "cell_type": "markdown",
   "metadata": {},
   "source": [
    "`add_ten`, above, modifies its argument. It's like `chop` from the reading journal, or like `lst.sort()` from the Python standard library.\n",
    "\n",
    "`added_ten`, below, constructs a new list. It's like `middle` from the reading journal, or like `sorted(lst)` from the Python standard library.\n",
    "\n",
    "Code that constructs a new list generally uses an *accumulator* to collect the new values into,\n",
    "and includes these stages:\n",
    "* *Initializing* the accumulator\n",
    "* *Modifying* the accumulator (adding or extending it with new values)\n",
    "* *Returning* the accumulated values\n",
    "\n",
    "These stages are labelled below."
   ]
  },
  {
   "cell_type": "code",
   "execution_count": 45,
   "metadata": {},
   "outputs": [
    {
     "name": "stdout",
     "output_type": "stream",
     "text": [
      "added_ten returns [12, 14, 16]\n",
      "lst = [2, 4, 6]\n"
     ]
    }
   ],
   "source": [
    "def added_ten(ns):\n",
    "    \"\"\"Add ten to each of the numbers in the list of numbers `xs`.\n",
    "    This function returns a new list.\"\"\"\n",
    "    result = []                # initialize the accumulator\n",
    "    for n in ns:\n",
    "        result.append(n + 10)  # modify the accumulator\n",
    "    return result              # return the accumulated value\n",
    "\n",
    "lst = [2, 4, 6]\n",
    "print('added_ten returns', added_ten(lst))  # `add_one` returns a new list\n",
    "print('lst =', lst)                         # lst is unchanged"
   ]
  },
  {
   "cell_type": "markdown",
   "metadata": {},
   "source": [
    "### The `map` function"
   ]
  },
  {
   "cell_type": "markdown",
   "metadata": {},
   "source": [
    "Mapping is such a common operation that the Python library provides a standard function for it.\n",
    "\n",
    "This function takes another function as its argument.\n",
    "\n",
    "First, let's see what looks like to separate the code that adds ten out from the code that iterates over the items in the list. (We have **factored** `increment_by_ten` out from `added_ten`.)"
   ]
  },
  {
   "cell_type": "code",
   "execution_count": 44,
   "metadata": {},
   "outputs": [
    {
     "name": "stdout",
     "output_type": "stream",
     "text": [
      "added_ten returns [10, 11, 12]\n"
     ]
    }
   ],
   "source": [
    "def increment_by_ten(n):\n",
    "    return n + 10\n",
    "\n",
    "def added_ten(ns):\n",
    "    result = []                             # initialize the accumulator\n",
    "    for n in range(len(ns)):\n",
    "        result.append(increment_by_ten(n))  # modify the accumulator\n",
    "    return result                           # return the accumulated value\n",
    "\n",
    "lst = [2, 4, 6]\n",
    "print('added_ten returns', added_ten(lst))"
   ]
  },
  {
   "cell_type": "markdown",
   "metadata": {},
   "source": [
    "Now, we'll replace the accumulator and the `for` loop by `map`. (We're using the definition of `increment_by_ten` from above.)"
   ]
  },
  {
   "cell_type": "code",
   "execution_count": 43,
   "metadata": {},
   "outputs": [
    {
     "name": "stdout",
     "output_type": "stream",
     "text": [
      "added_ten returns [12, 14]\n"
     ]
    }
   ],
   "source": [
    "def added_ten(ns):\n",
    "    return list(map(increment_by_ten, ns))\n",
    "\n",
    "print('added_ten returns', added_ten(lst))  # `add_one` returns a new list"
   ]
  },
  {
   "cell_type": "markdown",
   "metadata": {},
   "source": [
    "(You may recall that `range` returns a list-like value, that we apply the `list` function to it in order to turn it into an actual list so that we can see its values. Similarly, `map` returns a list-like value. We apply the `list` function to it in order to see its values.)"
   ]
  },
  {
   "cell_type": "markdown",
   "metadata": {},
   "source": [
    "#### `for` and `map`: a connection\n",
    "\n",
    "The `for` statement replaces a number of different statements: that initialize, test, use, and increment the *loop variable*. With `for`, Python handles this for us automatically.\n",
    "\n",
    "Similarly, the `map` function replaces a number of different statements: that initialize, modify, and return the *accumulator variable*."
   ]
  },
  {
   "cell_type": "markdown",
   "metadata": {},
   "source": [
    "### List Comprehensions"
   ]
  },
  {
   "cell_type": "markdown",
   "metadata": {},
   "source": [
    "You may be familiar with [\"set builder\" notation](https://en.wikipedia.org/wiki/Set-builder_notation) from math:\n",
    "\n",
    "$$\\{n + 10 \\mid n \\in \\{2, 4, 6\\}\\}$$\n",
    "$$\\{n + 10 : n \\in \\{2, 4, 6\\}\\}$$\n",
    "\n",
    "These are two different ways of writing: the set of numbers $\\{n + 10\\}$, for $n$ from $\\{2, 4, 6\\}$. (This set is equal to $\\{12, 14, 16\\}$.)\n",
    "\n",
    "Python provides **set comprehensions** (we'll learn about Python sets later). The following set comprehension is equal to the Python set `{12, 14, 16}`: \n",
    "\n",
    "```python\n",
    "{n + 10 for n in {2, 4, 6}}\n",
    "```\n",
    "\n",
    "The Python list **list comprehension** is similar, but produces a list instead of a set:\n",
    "\n",
    "```python\n",
    "[n + 10 for n in {2, 4, 6}]\n",
    "```\n",
    "\n",
    "Here's an implementation of `map` using a list comprehension:"
   ]
  },
  {
   "cell_type": "code",
   "execution_count": 42,
   "metadata": {
    "scrolled": true
   },
   "outputs": [
    {
     "name": "stdout",
     "output_type": "stream",
     "text": [
      "[20, 30, 40, 50]\n"
     ]
    }
   ],
   "source": [
    "def added_ten(ns):\n",
    "    return [n + 10 for n in ns]\n",
    "\n",
    "print(added_ten([10, 20, 30, 40]))"
   ]
  },
  {
   "cell_type": "markdown",
   "metadata": {},
   "source": [
    "# Filter\n",
    "\n",
    "*Filtering* returns a list that contains only some items from the original list.\n",
    "\n",
    "We will only work with implementations that create a new list. See [this Stack Overflow question](https://stackoverflow.com/questions/10665591/how-to-remove-list-elements-in-a-for-loop-in-python) for a discussion of some of the pitfalls with trying to delete items from a list from inside a `for` loop.\n",
    "\n",
    "Note: you will need to implement your own `is_even` function that returns `True` or `False`"
   ]
  },
  {
   "cell_type": "code",
   "execution_count": 41,
   "metadata": {},
   "outputs": [
    {
     "data": {
      "text/plain": [
       "[2, 4]"
      ]
     },
     "execution_count": 41,
     "metadata": {},
     "output_type": "execute_result"
    }
   ],
   "source": [
    "def evens(ns):\n",
    "    result = []              # initialize the accumulator\n",
    "    for n in ns:\n",
    "        if is_even(n):\n",
    "            result.append(n)  # modify the accumulator\n",
    "    return result             # return the accumulated value\n",
    "\n",
    "evens([1, 2, 3, 4])"
   ]
  },
  {
   "cell_type": "markdown",
   "metadata": {},
   "source": [
    "Like mapping and `map`, Python provides a built-in function for filtering."
   ]
  },
  {
   "cell_type": "code",
   "execution_count": 40,
   "metadata": {},
   "outputs": [
    {
     "data": {
      "text/plain": [
       "[2, 4]"
      ]
     },
     "execution_count": 40,
     "metadata": {},
     "output_type": "execute_result"
    }
   ],
   "source": [
    "def evens(ns):\n",
    "    return list(filter(is_even, ns))\n",
    "\n",
    "evens([1, 2, 3, 4])"
   ]
  },
  {
   "cell_type": "markdown",
   "metadata": {},
   "source": [
    "There is also a list comprehension form of filter.\n",
    "\n",
    "Compare:\n",
    "\n",
    "* Math set builder notation: $\\{n : n \\in \\{2, 4, 6\\}, \\text{is_even}(n)\\}$\n",
    "* Python set comprehension: `{n for n in {2, 4, 6} if is_even(n)}`\n",
    "* Python list comprehension:  `[n for n in [2, 4, 6] if is_even(n)]`"
   ]
  },
  {
   "cell_type": "code",
   "execution_count": 51,
   "metadata": {},
   "outputs": [
    {
     "data": {
      "text/plain": [
       "[2, 4, 6]"
      ]
     },
     "execution_count": 51,
     "metadata": {},
     "output_type": "execute_result"
    }
   ],
   "source": [
    "def evens(ns):\n",
    "    return [n for n in ns if is_even(n)]\n",
    "\n",
    "evens([1, 2, 3, 4])"
   ]
  },
  {
   "cell_type": "markdown",
   "metadata": {},
   "source": [
    "## Reduce\n",
    "\n",
    "The _reduce_ pattern combines the items in a list into a single value."
   ]
  },
  {
   "cell_type": "code",
   "execution_count": 54,
   "metadata": {},
   "outputs": [
    {
     "data": {
      "text/plain": [
       "12"
      ]
     },
     "execution_count": 54,
     "metadata": {},
     "output_type": "execute_result"
    }
   ],
   "source": [
    "def my_sum(ns):\n",
    "    a = 0          # initialize accumulator\n",
    "    for n in ns:\n",
    "        a = a + n  # modify the accumulator\n",
    "    return a       # return the accumulated value\n",
    "\n",
    "my_sum([2, 4, 6])"
   ]
  },
  {
   "cell_type": "markdown",
   "metadata": {},
   "source": [
    "Unlike mapping and filtering, reduction does not have a list comprehension equivalent.\n",
    "\n",
    "Also, you have to import the `reduce` function from the [functools module](https://docs.python.org/3/library/functools.html).\n",
    "\n",
    "Like `map` and `filter`, `reduce` takes a function argument. We'll create an `add` helper function to pass to it."
   ]
  },
  {
   "cell_type": "code",
   "execution_count": 55,
   "metadata": {},
   "outputs": [
    {
     "data": {
      "text/plain": [
       "12"
      ]
     },
     "execution_count": 55,
     "metadata": {},
     "output_type": "execute_result"
    }
   ],
   "source": [
    "import functools\n",
    "\n",
    "def add(a, b):\n",
    "    return a + b\n",
    "\n",
    "def my_sum(ns):\n",
    "    return functools.reduce(add, ns)\n",
    "\n",
    "my_sum([2, 4, 6])"
   ]
  },
  {
   "cell_type": "markdown",
   "metadata": {},
   "source": [
    "Instead of writing our implementation of `add`, we could use the [operator module](https://docs.python.org/3.5/library/operator.html) to get a Python *function* that acts like the `+` *operator*."
   ]
  },
  {
   "cell_type": "code",
   "execution_count": 56,
   "metadata": {},
   "outputs": [
    {
     "data": {
      "text/plain": [
       "12"
      ]
     },
     "execution_count": 56,
     "metadata": {},
     "output_type": "execute_result"
    }
   ],
   "source": [
    "import functools\n",
    "import operator\n",
    "\n",
    "def my_sum(ns):\n",
    "    return functools.reduce(operator.add, ns)\n",
    "\n",
    "my_sum([2, 4, 6])"
   ]
  }
 ],
 "metadata": {
  "kernelspec": {
   "display_name": "Python 3",
   "language": "python",
   "name": "python3"
  },
  "language_info": {
   "codemirror_mode": {
    "name": "ipython",
    "version": 3
   },
   "file_extension": ".py",
   "mimetype": "text/x-python",
   "name": "python",
   "nbconvert_exporter": "python",
   "pygments_lexer": "ipython3",
   "version": "3.7.1"
  }
 },
 "nbformat": 4,
 "nbformat_minor": 1
}
