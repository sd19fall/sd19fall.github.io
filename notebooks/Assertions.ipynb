{
 "cells": [
  {
   "cell_type": "markdown",
   "metadata": {},
   "source": [
    "# Assertions"
   ]
  },
  {
   "cell_type": "markdown",
   "metadata": {},
   "source": [
    "`assert` statements are a useful debugging tool in Python (and other languages). You can insert \"sanity check\" assertions into your code, and Python will raise an error if they are violated:"
   ]
  },
  {
   "cell_type": "code",
   "execution_count": 31,
   "metadata": {},
   "outputs": [
    {
     "name": "stdout",
     "output_type": "stream",
     "text": [
      "2.0\n"
     ]
    },
    {
     "ename": "AssertionError",
     "evalue": "Positive values only (keep it real!)",
     "output_type": "error",
     "traceback": [
      "\u001b[0;31m---------------------------------------------------------------------------\u001b[0m",
      "\u001b[0;31mAssertionError\u001b[0m                            Traceback (most recent call last)",
      "\u001b[0;32m<ipython-input-31-9aef97c90f4b>\u001b[0m in \u001b[0;36m<module>\u001b[0;34m()\u001b[0m\n\u001b[1;32m      7\u001b[0m \u001b[0;34m\u001b[0m\u001b[0m\n\u001b[1;32m      8\u001b[0m \u001b[0mprint\u001b[0m\u001b[0;34m(\u001b[0m\u001b[0mroot\u001b[0m\u001b[0;34m(\u001b[0m\u001b[0;36m4\u001b[0m\u001b[0;34m)\u001b[0m\u001b[0;34m)\u001b[0m\u001b[0;34m\u001b[0m\u001b[0m\n\u001b[0;32m----> 9\u001b[0;31m \u001b[0mprint\u001b[0m\u001b[0;34m(\u001b[0m\u001b[0mroot\u001b[0m\u001b[0;34m(\u001b[0m\u001b[0;34m-\u001b[0m\u001b[0;36m4\u001b[0m\u001b[0;34m)\u001b[0m\u001b[0;34m)\u001b[0m\u001b[0;34m\u001b[0m\u001b[0m\n\u001b[0m",
      "\u001b[0;32m<ipython-input-31-9aef97c90f4b>\u001b[0m in \u001b[0;36mroot\u001b[0;34m(x)\u001b[0m\n\u001b[1;32m      3\u001b[0m \u001b[0;32mdef\u001b[0m \u001b[0mroot\u001b[0m\u001b[0;34m(\u001b[0m\u001b[0mx\u001b[0m\u001b[0;34m)\u001b[0m\u001b[0;34m:\u001b[0m\u001b[0;34m\u001b[0m\u001b[0m\n\u001b[1;32m      4\u001b[0m     \u001b[0;31m# NB: assert is a statement not a function, so we don't call with ()\u001b[0m\u001b[0;34m\u001b[0m\u001b[0;34m\u001b[0m\u001b[0m\n\u001b[0;32m----> 5\u001b[0;31m     \u001b[0;32massert\u001b[0m \u001b[0mx\u001b[0m \u001b[0;34m>=\u001b[0m \u001b[0;36m0\u001b[0m\u001b[0;34m,\u001b[0m \u001b[0;34m\"Positive values only (keep it real!)\"\u001b[0m\u001b[0;34m\u001b[0m\u001b[0m\n\u001b[0m\u001b[1;32m      6\u001b[0m     \u001b[0;32mreturn\u001b[0m \u001b[0mmath\u001b[0m\u001b[0;34m.\u001b[0m\u001b[0msqrt\u001b[0m\u001b[0;34m(\u001b[0m\u001b[0mx\u001b[0m\u001b[0;34m)\u001b[0m\u001b[0;34m\u001b[0m\u001b[0m\n\u001b[1;32m      7\u001b[0m \u001b[0;34m\u001b[0m\u001b[0m\n",
      "\u001b[0;31mAssertionError\u001b[0m: Positive values only (keep it real!)"
     ]
    }
   ],
   "source": [
    "import math\n",
    "\n",
    "def root(x):\n",
    "    # NB: assert is a statement not a function, so we don't call with ()\n",
    "    assert x >= 0, \"Positive values only (keep it real!)\"\n",
    "    return math.sqrt(x)\n",
    "\n",
    "print(root(4))\n",
    "print(root(-4))"
   ]
  },
  {
   "cell_type": "markdown",
   "metadata": {},
   "source": [
    "Assertions make your assumptions explicit, and can be read almost like part of your documentation. In this example, you're saying, \"there's no way anyone would call this function with a negative value, and it would be a problem if they did so I'd like to know about it.\" Assertions can also be better than just placing debugging `print` statements in your code, since the program halts when an assertion fails.\n",
    "\n",
    "Assertions should only be used for debugging purposes, not to catch errors at runtime (use Exceptions for that instead). Assertions may be stripped from your code when it is run in optimized modes, so they cannot be relied upon for anything other than debugging."
   ]
  },
  {
   "cell_type": "markdown",
   "metadata": {},
   "source": [
    "Assertions also have a connection to Exceptions in Python: under the covers, the implementation of the [`assert` statement](https://docs.python.org/3/reference/simple_stmts.html?highlight=assert#the-assert-statement) simply raises an `AssertionError` Exception if the assertion test fails. Specifically,\n",
    "\n",
    "```python\n",
    "assert expression\n",
    "```\n",
    "translates to\n",
    "\n",
    "```python\n",
    "if __debug__:\n",
    "    if not expression: raise AssertionError\n",
    "```"
   ]
  },
  {
   "cell_type": "markdown",
   "metadata": {},
   "source": [
    "## Example\n",
    "\n",
    "As a preliminary, let's store information about a graded assignment in a structured way. We could go all out and define a custom Assignment class (perhaps using Python's new [dataclass](https://docs.python.org/3/library/dataclasses.html) decorator), and that would be a great choice if we had a lot of attributes or methods to deal with. \n",
    "\n",
    "On the other end of the complexity spectrum, we could use a simple dictionary:\n",
    "\n",
    "```python\n",
    "assignment = {'name': 'MP2 Computational Art', 'grade': 100}\n",
    "```\n",
    "\n",
    "or even just a tuple:\n",
    "```python\n",
    "assignment = ('MP2 Computational Art', 100)\n",
    "```\n",
    "\n",
    "Instead I'm going to use a [namedtuple](https://docs.python.org/3.7/library/collections.html#collections.namedtuple) (you can also read about them [\"Goodies\" chapter of Think Python](http://greenteapress.com/thinkpython2/html/thinkpython2020.html#sec230)), which is almost as simple to use as a tuple but has convenient named fields like a class:"
   ]
  },
  {
   "cell_type": "code",
   "execution_count": 14,
   "metadata": {},
   "outputs": [
    {
     "name": "stdout",
     "output_type": "stream",
     "text": [
      "Assignment(name='MP2 Computational Art', grade=85)\n"
     ]
    }
   ],
   "source": [
    "from collections import namedtuple\n",
    "Assignment = namedtuple('Assignment', ['name', 'grade'])\n",
    "\n",
    "# Create a new MP2 submission\n",
    "work = Assignment('MP2 Computational Art', 85)\n",
    "print(work)"
   ]
  },
  {
   "cell_type": "markdown",
   "metadata": {},
   "source": [
    "Let's write a function to apply a late penalty according to the course policy and return a new `namedtuple`. (Quick check: could this function be written as a modifier instead? Why or why not?) \n",
    "\n",
    "As a \"sanity check\", we include an assertion that the adjusted grade is not higher than the original grade or lower than zero:"
   ]
  },
  {
   "cell_type": "code",
   "execution_count": 17,
   "metadata": {},
   "outputs": [],
   "source": [
    "def late_penalty(assignment, days_late):\n",
    "    \"\"\"\n",
    "    Given namedtuple Assignment and number of days_late, return\n",
    "    new Assignment namedtuple with grade adjusted for late penalty.\n",
    "    \n",
    "    >>> a1 = Assignment('MP1', 90)\n",
    "    >>> late_penalty(a1, days_late=2)\n",
    "    Assignment(name='MP1', grade=70)\n",
    "    \"\"\"\n",
    "    adjusted_grade = assignment.grade - 10*days_late\n",
    "    assert 0 <= adjusted_grade <= assignment.grade\n",
    "    return Assignment(assignment.name, adjusted_grade)"
   ]
  },
  {
   "cell_type": "markdown",
   "metadata": {},
   "source": [
    "If your assumptions are met, the assertion has no effect:"
   ]
  },
  {
   "cell_type": "code",
   "execution_count": 19,
   "metadata": {},
   "outputs": [
    {
     "data": {
      "text/plain": [
       "Assignment(name='MP2 Computational Art', grade=75)"
      ]
     },
     "execution_count": 19,
     "metadata": {},
     "output_type": "execute_result"
    }
   ],
   "source": [
    "work = Assignment('MP2 Computational Art', 85)\n",
    "late_penalty(work, 1)"
   ]
  },
  {
   "cell_type": "markdown",
   "metadata": {},
   "source": [
    "On the other hand if your assumptions are violated, the assertion triggers an error:"
   ]
  },
  {
   "cell_type": "code",
   "execution_count": 20,
   "metadata": {},
   "outputs": [
    {
     "ename": "AssertionError",
     "evalue": "",
     "output_type": "error",
     "traceback": [
      "\u001b[0;31m---------------------------------------------------------------------------\u001b[0m",
      "\u001b[0;31mAssertionError\u001b[0m                            Traceback (most recent call last)",
      "\u001b[0;32m<ipython-input-20-f223a24b907e>\u001b[0m in \u001b[0;36m<module>\u001b[0;34m()\u001b[0m\n\u001b[1;32m      1\u001b[0m \u001b[0;31m# Late by eleven days -> 110% penalty\u001b[0m\u001b[0;34m\u001b[0m\u001b[0;34m\u001b[0m\u001b[0m\n\u001b[0;32m----> 2\u001b[0;31m \u001b[0mlate_penalty\u001b[0m\u001b[0;34m(\u001b[0m\u001b[0mwork\u001b[0m\u001b[0;34m,\u001b[0m \u001b[0;36m11\u001b[0m\u001b[0;34m)\u001b[0m\u001b[0;34m\u001b[0m\u001b[0m\n\u001b[0m",
      "\u001b[0;32m<ipython-input-17-f1c3d8902c51>\u001b[0m in \u001b[0;36mlate_penalty\u001b[0;34m(assignment, days_late)\u001b[0m\n\u001b[1;32m      9\u001b[0m     \"\"\"\n\u001b[1;32m     10\u001b[0m     \u001b[0madjusted_grade\u001b[0m \u001b[0;34m=\u001b[0m \u001b[0massignment\u001b[0m\u001b[0;34m.\u001b[0m\u001b[0mgrade\u001b[0m \u001b[0;34m-\u001b[0m \u001b[0;36m10\u001b[0m\u001b[0;34m*\u001b[0m\u001b[0mdays_late\u001b[0m\u001b[0;34m\u001b[0m\u001b[0m\n\u001b[0;32m---> 11\u001b[0;31m     \u001b[0;32massert\u001b[0m \u001b[0;36m0\u001b[0m \u001b[0;34m<=\u001b[0m \u001b[0madjusted_grade\u001b[0m \u001b[0;34m<=\u001b[0m \u001b[0massignment\u001b[0m\u001b[0;34m.\u001b[0m\u001b[0mgrade\u001b[0m\u001b[0;34m\u001b[0m\u001b[0m\n\u001b[0m\u001b[1;32m     12\u001b[0m     \u001b[0;32mreturn\u001b[0m \u001b[0mAssignment\u001b[0m\u001b[0;34m(\u001b[0m\u001b[0massignment\u001b[0m\u001b[0;34m.\u001b[0m\u001b[0mname\u001b[0m\u001b[0;34m,\u001b[0m \u001b[0madjusted_grade\u001b[0m\u001b[0;34m)\u001b[0m\u001b[0;34m\u001b[0m\u001b[0m\n",
      "\u001b[0;31mAssertionError\u001b[0m: "
     ]
    }
   ],
   "source": [
    "# Late by eleven days -> 110% penalty?\n",
    "late_penalty(work, 11)"
   ]
  },
  {
   "cell_type": "markdown",
   "metadata": {},
   "source": [
    "This failed assertion is helpful for debugging, here suggesting that we need to handle the special case of assignments >= 10 days late.\n",
    "\n",
    "You can also add a helpful note to your assertion: "
   ]
  },
  {
   "cell_type": "code",
   "execution_count": 22,
   "metadata": {},
   "outputs": [
    {
     "ename": "AssertionError",
     "evalue": "Adjusted grade out of range",
     "output_type": "error",
     "traceback": [
      "\u001b[0;31m---------------------------------------------------------------------------\u001b[0m",
      "\u001b[0;31mAssertionError\u001b[0m                            Traceback (most recent call last)",
      "\u001b[0;32m<ipython-input-22-37f67b3248a3>\u001b[0m in \u001b[0;36m<module>\u001b[0;34m()\u001b[0m\n\u001b[1;32m      4\u001b[0m     \u001b[0;32mreturn\u001b[0m \u001b[0mAssignment\u001b[0m\u001b[0;34m(\u001b[0m\u001b[0massignment\u001b[0m\u001b[0;34m.\u001b[0m\u001b[0mname\u001b[0m\u001b[0;34m,\u001b[0m \u001b[0madjusted_grade\u001b[0m\u001b[0;34m)\u001b[0m\u001b[0;34m\u001b[0m\u001b[0m\n\u001b[1;32m      5\u001b[0m \u001b[0;34m\u001b[0m\u001b[0m\n\u001b[0;32m----> 6\u001b[0;31m \u001b[0mlate_penalty\u001b[0m\u001b[0;34m(\u001b[0m\u001b[0mwork\u001b[0m\u001b[0;34m,\u001b[0m \u001b[0;36m11\u001b[0m\u001b[0;34m)\u001b[0m\u001b[0;34m\u001b[0m\u001b[0m\n\u001b[0m",
      "\u001b[0;32m<ipython-input-22-37f67b3248a3>\u001b[0m in \u001b[0;36mlate_penalty\u001b[0;34m(assignment, days_late)\u001b[0m\n\u001b[1;32m      1\u001b[0m \u001b[0;32mdef\u001b[0m \u001b[0mlate_penalty\u001b[0m\u001b[0;34m(\u001b[0m\u001b[0massignment\u001b[0m\u001b[0;34m,\u001b[0m \u001b[0mdays_late\u001b[0m\u001b[0;34m)\u001b[0m\u001b[0;34m:\u001b[0m\u001b[0;34m\u001b[0m\u001b[0m\n\u001b[1;32m      2\u001b[0m     \u001b[0madjusted_grade\u001b[0m \u001b[0;34m=\u001b[0m \u001b[0massignment\u001b[0m\u001b[0;34m.\u001b[0m\u001b[0mgrade\u001b[0m \u001b[0;34m-\u001b[0m \u001b[0;36m10\u001b[0m\u001b[0;34m*\u001b[0m\u001b[0mdays_late\u001b[0m\u001b[0;34m\u001b[0m\u001b[0m\n\u001b[0;32m----> 3\u001b[0;31m     \u001b[0;32massert\u001b[0m \u001b[0;36m0\u001b[0m \u001b[0;34m<=\u001b[0m \u001b[0madjusted_grade\u001b[0m \u001b[0;34m<=\u001b[0m \u001b[0massignment\u001b[0m\u001b[0;34m.\u001b[0m\u001b[0mgrade\u001b[0m\u001b[0;34m,\u001b[0m \u001b[0;34m\"Adjusted grade out of range\"\u001b[0m\u001b[0;34m\u001b[0m\u001b[0m\n\u001b[0m\u001b[1;32m      4\u001b[0m     \u001b[0;32mreturn\u001b[0m \u001b[0mAssignment\u001b[0m\u001b[0;34m(\u001b[0m\u001b[0massignment\u001b[0m\u001b[0;34m.\u001b[0m\u001b[0mname\u001b[0m\u001b[0;34m,\u001b[0m \u001b[0madjusted_grade\u001b[0m\u001b[0;34m)\u001b[0m\u001b[0;34m\u001b[0m\u001b[0m\n\u001b[1;32m      5\u001b[0m \u001b[0;34m\u001b[0m\u001b[0m\n",
      "\u001b[0;31mAssertionError\u001b[0m: Adjusted grade out of range"
     ]
    }
   ],
   "source": [
    "def late_penalty(assignment, days_late):\n",
    "    adjusted_grade = assignment.grade - 10*days_late\n",
    "    assert 0 <= adjusted_grade <= assignment.grade, \"Adjusted grade out of range\"\n",
    "    return Assignment(assignment.name, adjusted_grade)\n",
    "\n",
    "late_penalty(work, 11)"
   ]
  },
  {
   "cell_type": "markdown",
   "metadata": {},
   "source": [
    "But be careful! `assert` is a statement not a function - adding parentheses will not do what you expect it to:"
   ]
  },
  {
   "cell_type": "code",
   "execution_count": 25,
   "metadata": {},
   "outputs": [
    {
     "name": "stderr",
     "output_type": "stream",
     "text": [
      "<ipython-input-25-817aa1c7abac>:4: SyntaxWarning: assertion is always true, perhaps remove parentheses?\n",
      "  assert (0 <= adjusted_grade <= assignment.grade, \"Adjusted grade out of range\")\n"
     ]
    }
   ],
   "source": [
    "def late_penalty(assignment, days_late):\n",
    "    adjusted_grade = assignment.grade - 10*days_late\n",
    "    # WRONG: Incorrect usage of assert as a \"function call\" not a statement\n",
    "    assert (0 <= adjusted_grade <= assignment.grade, \"Adjusted grade out of range\")\n",
    "    return Assignment(assignment.name, adjusted_grade)"
   ]
  },
  {
   "cell_type": "code",
   "execution_count": 26,
   "metadata": {},
   "outputs": [
    {
     "data": {
      "text/plain": [
       "Assignment(name='MP2 Computational Art', grade=-25)"
      ]
     },
     "execution_count": 26,
     "metadata": {},
     "output_type": "execute_result"
    }
   ],
   "source": [
    "late_penalty(work, 11)"
   ]
  },
  {
   "cell_type": "markdown",
   "metadata": {},
   "source": [
    "The assertion test did not fail (why not?) and the function happily assigned a negative score. Note that Python 3 gives us a nice warning about the improper usage, but earlier versions may not."
   ]
  },
  {
   "cell_type": "markdown",
   "metadata": {},
   "source": [
    "# Summary Guidelines\n",
    "\n",
    " - Use assertions for debugging, and to make your assumptions as a developer explicit\n",
    " - Do not use assertions to catch runtime errors (that's what Exceptions are for)\n",
    " - `assert` is a statement, **not** a function, so don't use ()"
   ]
  }
 ],
 "metadata": {
  "kernelspec": {
   "display_name": "Python 3",
   "language": "python",
   "name": "python3"
  },
  "language_info": {
   "codemirror_mode": {
    "name": "ipython",
    "version": 3
   },
   "file_extension": ".py",
   "mimetype": "text/x-python",
   "name": "python",
   "nbconvert_exporter": "python",
   "pygments_lexer": "ipython3",
   "version": "3.7.1"
  }
 },
 "nbformat": 4,
 "nbformat_minor": 2
}
