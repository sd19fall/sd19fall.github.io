{
 "cells": [
  {
   "cell_type": "markdown",
   "metadata": {},
   "source": [
    "# Exceptions\n",
    "\n",
    "Reference: [Exceptions in Python tutorial](https://docs.python.org/3/tutorial/errors.html)"
   ]
  },
  {
   "cell_type": "markdown",
   "metadata": {},
   "source": [
    "Exceptions in Python (and other languages) are used to handle situations during program execution when something goes wrong (exceptional cases) in a controlled way.\n",
    "\n",
    "Let's start with a motivating example from MP1, finding complementary base pairs:"
   ]
  },
  {
   "cell_type": "code",
   "execution_count": 37,
   "metadata": {},
   "outputs": [],
   "source": [
    "def complement(c):\n",
    "    if c == 'A':\n",
    "        return 'T'\n",
    "    if c == 'T':\n",
    "        return 'A'\n",
    "    if c == 'C':\n",
    "        return 'G'\n",
    "    if c == 'G':\n",
    "        return 'C'"
   ]
  },
  {
   "cell_type": "markdown",
   "metadata": {},
   "source": [
    "Remember that functions return `None` if they reach then end without hitting a return statement, so this is equivalent to:"
   ]
  },
  {
   "cell_type": "code",
   "execution_count": 1,
   "metadata": {},
   "outputs": [],
   "source": [
    "def complement(c):\n",
    "    if c == 'A':\n",
    "        return 'T'\n",
    "    if c == 'T':\n",
    "        return 'A'\n",
    "    if c == 'C':\n",
    "        return 'G'\n",
    "    if c == 'G':\n",
    "        return 'C'\n",
    "    return None"
   ]
  },
  {
   "cell_type": "markdown",
   "metadata": {},
   "source": [
    "`complement_seq` is a client of `complement` (that is to say, it calls `complement`):"
   ]
  },
  {
   "cell_type": "code",
   "execution_count": 2,
   "metadata": {},
   "outputs": [],
   "source": [
    "def complement_seq(dna_seq):\n",
    "    return ''.join(complement(b) for b in reversed(dna_seq))"
   ]
  },
  {
   "cell_type": "markdown",
   "metadata": {},
   "source": [
    "This compact form is a \"generator expression\", which you can read about in the [\"Goodies\" chapter of Think Python](http://greenteapress.com/thinkpython2/html/thinkpython2020.html#sec225). Let's unpack it to make debugging easier:"
   ]
  },
  {
   "cell_type": "code",
   "execution_count": 4,
   "metadata": {},
   "outputs": [],
   "source": [
    "def complement_seq(dna_seq):\n",
    "    result = ''\n",
    "    for b in reversed(dna_seq):\n",
    "        c = complement(b)\n",
    "        result += c\n",
    "    return result"
   ]
  },
  {
   "cell_type": "markdown",
   "metadata": {},
   "source": [
    "Passing an invalid argument to `complement_seq` passes an invalid argument to `complement`, which raises an exception. The exception is downstream from the call to `complement`, and has an unrevealing name and message. This makes this difficult to debug."
   ]
  },
  {
   "cell_type": "code",
   "execution_count": 5,
   "metadata": {},
   "outputs": [
    {
     "ename": "TypeError",
     "evalue": "can only concatenate str (not \"NoneType\") to str",
     "output_type": "error",
     "traceback": [
      "\u001b[0;31m---------------------------------------------------------------------------\u001b[0m",
      "\u001b[0;31mTypeError\u001b[0m                                 Traceback (most recent call last)",
      "\u001b[0;32m<ipython-input-5-37d3d1313b61>\u001b[0m in \u001b[0;36m<module>\u001b[0;34m\u001b[0m\n\u001b[0;32m----> 1\u001b[0;31m \u001b[0mcomplement_seq\u001b[0m\u001b[0;34m(\u001b[0m\u001b[0;34m'CAXT'\u001b[0m\u001b[0;34m)\u001b[0m\u001b[0;34m\u001b[0m\u001b[0;34m\u001b[0m\u001b[0m\n\u001b[0m",
      "\u001b[0;32m<ipython-input-4-8f9fc6967dcc>\u001b[0m in \u001b[0;36mcomplement_seq\u001b[0;34m(dna_seq)\u001b[0m\n\u001b[1;32m      3\u001b[0m     \u001b[0;32mfor\u001b[0m \u001b[0mb\u001b[0m \u001b[0;32min\u001b[0m \u001b[0mreversed\u001b[0m\u001b[0;34m(\u001b[0m\u001b[0mdna_seq\u001b[0m\u001b[0;34m)\u001b[0m\u001b[0;34m:\u001b[0m\u001b[0;34m\u001b[0m\u001b[0;34m\u001b[0m\u001b[0m\n\u001b[1;32m      4\u001b[0m         \u001b[0mc\u001b[0m \u001b[0;34m=\u001b[0m \u001b[0mcomplement\u001b[0m\u001b[0;34m(\u001b[0m\u001b[0mb\u001b[0m\u001b[0;34m)\u001b[0m\u001b[0;34m\u001b[0m\u001b[0;34m\u001b[0m\u001b[0m\n\u001b[0;32m----> 5\u001b[0;31m         \u001b[0mresult\u001b[0m \u001b[0;34m+=\u001b[0m \u001b[0mc\u001b[0m\u001b[0;34m\u001b[0m\u001b[0;34m\u001b[0m\u001b[0m\n\u001b[0m\u001b[1;32m      6\u001b[0m     \u001b[0;32mreturn\u001b[0m \u001b[0mresult\u001b[0m\u001b[0;34m\u001b[0m\u001b[0;34m\u001b[0m\u001b[0m\n",
      "\u001b[0;31mTypeError\u001b[0m: can only concatenate str (not \"NoneType\") to str"
     ]
    }
   ],
   "source": [
    "complement_seq('CAXT')"
   ]
  },
  {
   "cell_type": "markdown",
   "metadata": {},
   "source": [
    "## Return-value-as-error\n",
    "One technique (frowned on in Python) is to represent an error by an “out-of-band” value. “Out-of-band” means not in the set of valid return values for the function."
   ]
  },
  {
   "cell_type": "code",
   "execution_count": null,
   "metadata": {},
   "outputs": [],
   "source": [
    "def complement(c):\n",
    "    if c == 'A':\n",
    "        return 'T'\n",
    "    if c == 'T':\n",
    "        return 'A'\n",
    "    if c == 'C':\n",
    "        return 'G'\n",
    "    if c == 'G':\n",
    "        return 'C'\n",
    "    return 'error'"
   ]
  },
  {
   "cell_type": "markdown",
   "metadata": {},
   "source": [
    "`complement` callers need to know about this. If they don't know how to recover from the error, they should return an out-of-band value too. Then *their* callers need to follow this convention as well."
   ]
  },
  {
   "cell_type": "code",
   "execution_count": 45,
   "metadata": {},
   "outputs": [],
   "source": [
    "def complement_seq(dna_seq):\n",
    "    result = ''\n",
    "    for b in dna_seq[::-1]:\n",
    "        c = complement(b)\n",
    "        if c == 'error':\n",
    "            return 'error'\n",
    "        result += c\n",
    "    return result"
   ]
  },
  {
   "cell_type": "code",
   "execution_count": 45,
   "metadata": {},
   "outputs": [],
   "source": [
    "def function_that_uses_complement_seq():\n",
    "    # do some stuff that computes dna_seq\n",
    "    # ...\n",
    "    comp_seq = complement_seq(dna_seq)\n",
    "    if comp_seq == 'error':\n",
    "        return 'error'\n",
    "    # now the case where comp_seq didn't return an error"
   ]
  },
  {
   "cell_type": "markdown",
   "metadata": {},
   "source": [
    "And so on, all the way up the call stack. This is getting to be a mess - lots of repeated code and opportunities to make a mistake. Let's see how we can do better."
   ]
  },
  {
   "cell_type": "markdown",
   "metadata": {},
   "source": [
    "## Exceptions"
   ]
  },
  {
   "cell_type": "markdown",
   "metadata": {},
   "source": [
    "Rather than returning a value intended to indicate an error, we can **raise an exception**."
   ]
  },
  {
   "cell_type": "code",
   "execution_count": 3,
   "metadata": {},
   "outputs": [
    {
     "ename": "Exception",
     "evalue": "Invalid nucleobase 'X'",
     "output_type": "error",
     "traceback": [
      "\u001b[0;31m---------------------------------------------------------------------------\u001b[0m",
      "\u001b[0;31mException\u001b[0m                                 Traceback (most recent call last)",
      "\u001b[0;32m<ipython-input-3-1bde63f9f552>\u001b[0m in \u001b[0;36m<module>\u001b[0;34m()\u001b[0m\n\u001b[1;32m     10\u001b[0m     \u001b[0;32mraise\u001b[0m \u001b[0mException\u001b[0m\u001b[0;34m(\u001b[0m\u001b[0;34m'Invalid nucleobase {!r}'\u001b[0m\u001b[0;34m.\u001b[0m\u001b[0mformat\u001b[0m\u001b[0;34m(\u001b[0m\u001b[0mc\u001b[0m\u001b[0;34m)\u001b[0m\u001b[0;34m)\u001b[0m\u001b[0;34m\u001b[0m\u001b[0m\n\u001b[1;32m     11\u001b[0m \u001b[0;34m\u001b[0m\u001b[0m\n\u001b[0;32m---> 12\u001b[0;31m \u001b[0mcomplement\u001b[0m\u001b[0;34m(\u001b[0m\u001b[0;34m'X'\u001b[0m\u001b[0;34m)\u001b[0m\u001b[0;34m\u001b[0m\u001b[0m\n\u001b[0m",
      "\u001b[0;32m<ipython-input-3-1bde63f9f552>\u001b[0m in \u001b[0;36mcomplement\u001b[0;34m(c)\u001b[0m\n\u001b[1;32m      8\u001b[0m     \u001b[0;32mif\u001b[0m \u001b[0mc\u001b[0m \u001b[0;34m==\u001b[0m \u001b[0;34m'G'\u001b[0m\u001b[0;34m:\u001b[0m\u001b[0;34m\u001b[0m\u001b[0m\n\u001b[1;32m      9\u001b[0m         \u001b[0;32mreturn\u001b[0m \u001b[0;34m'C'\u001b[0m\u001b[0;34m\u001b[0m\u001b[0m\n\u001b[0;32m---> 10\u001b[0;31m     \u001b[0;32mraise\u001b[0m \u001b[0mException\u001b[0m\u001b[0;34m(\u001b[0m\u001b[0;34m'Invalid nucleobase {!r}'\u001b[0m\u001b[0;34m.\u001b[0m\u001b[0mformat\u001b[0m\u001b[0;34m(\u001b[0m\u001b[0mc\u001b[0m\u001b[0;34m)\u001b[0m\u001b[0;34m)\u001b[0m\u001b[0;34m\u001b[0m\u001b[0m\n\u001b[0m\u001b[1;32m     11\u001b[0m \u001b[0;34m\u001b[0m\u001b[0m\n\u001b[1;32m     12\u001b[0m \u001b[0mcomplement\u001b[0m\u001b[0;34m(\u001b[0m\u001b[0;34m'X'\u001b[0m\u001b[0;34m)\u001b[0m\u001b[0;34m\u001b[0m\u001b[0m\n",
      "\u001b[0;31mException\u001b[0m: Invalid nucleobase 'X'"
     ]
    }
   ],
   "source": [
    "def complement(c):\n",
    "    if c == 'A':\n",
    "        return 'T'\n",
    "    if c == 'T':\n",
    "        return 'A'\n",
    "    if c == 'C':\n",
    "        return 'G'\n",
    "    if c == 'G':\n",
    "        return 'C'\n",
    "    raise Exception('Invalid nucleobase {!r}'.format(c))\n",
    "\n",
    "complement('X')"
   ]
  },
  {
   "cell_type": "markdown",
   "metadata": {},
   "source": [
    "The exception is thrown straight through `complement`'s callers – even if they don't know about exceptions. This makes for easier debugging, since we can trace the error back to its original source."
   ]
  },
  {
   "cell_type": "code",
   "execution_count": 4,
   "metadata": {},
   "outputs": [
    {
     "ename": "Exception",
     "evalue": "Invalid nucleobase 'X'",
     "output_type": "error",
     "traceback": [
      "\u001b[0;31m---------------------------------------------------------------------------\u001b[0m",
      "\u001b[0;31mException\u001b[0m                                 Traceback (most recent call last)",
      "\u001b[0;32m<ipython-input-4-962e256e1398>\u001b[0m in \u001b[0;36m<module>\u001b[0;34m()\u001b[0m\n\u001b[1;32m      6\u001b[0m     \u001b[0;32mreturn\u001b[0m \u001b[0mresult\u001b[0m\u001b[0;34m\u001b[0m\u001b[0m\n\u001b[1;32m      7\u001b[0m \u001b[0;34m\u001b[0m\u001b[0m\n\u001b[0;32m----> 8\u001b[0;31m \u001b[0mcomplement_seq\u001b[0m\u001b[0;34m(\u001b[0m\u001b[0;34m'CAXT'\u001b[0m\u001b[0;34m)\u001b[0m\u001b[0;34m\u001b[0m\u001b[0m\n\u001b[0m",
      "\u001b[0;32m<ipython-input-4-962e256e1398>\u001b[0m in \u001b[0;36mcomplement_seq\u001b[0;34m(dna_seq)\u001b[0m\n\u001b[1;32m      2\u001b[0m     \u001b[0mresult\u001b[0m \u001b[0;34m=\u001b[0m \u001b[0;34m''\u001b[0m\u001b[0;34m\u001b[0m\u001b[0m\n\u001b[1;32m      3\u001b[0m     \u001b[0;32mfor\u001b[0m \u001b[0mb\u001b[0m \u001b[0;32min\u001b[0m \u001b[0mdna_seq\u001b[0m\u001b[0;34m[\u001b[0m\u001b[0;34m:\u001b[0m\u001b[0;34m:\u001b[0m\u001b[0;34m-\u001b[0m\u001b[0;36m1\u001b[0m\u001b[0;34m]\u001b[0m\u001b[0;34m:\u001b[0m\u001b[0;34m\u001b[0m\u001b[0m\n\u001b[0;32m----> 4\u001b[0;31m         \u001b[0mc\u001b[0m \u001b[0;34m=\u001b[0m \u001b[0mcomplement\u001b[0m\u001b[0;34m(\u001b[0m\u001b[0mb\u001b[0m\u001b[0;34m)\u001b[0m\u001b[0;34m\u001b[0m\u001b[0m\n\u001b[0m\u001b[1;32m      5\u001b[0m         \u001b[0mresult\u001b[0m \u001b[0;34m+=\u001b[0m \u001b[0mc\u001b[0m\u001b[0;34m\u001b[0m\u001b[0m\n\u001b[1;32m      6\u001b[0m     \u001b[0;32mreturn\u001b[0m \u001b[0mresult\u001b[0m\u001b[0;34m\u001b[0m\u001b[0m\n",
      "\u001b[0;32m<ipython-input-3-1bde63f9f552>\u001b[0m in \u001b[0;36mcomplement\u001b[0;34m(c)\u001b[0m\n\u001b[1;32m      8\u001b[0m     \u001b[0;32mif\u001b[0m \u001b[0mc\u001b[0m \u001b[0;34m==\u001b[0m \u001b[0;34m'G'\u001b[0m\u001b[0;34m:\u001b[0m\u001b[0;34m\u001b[0m\u001b[0m\n\u001b[1;32m      9\u001b[0m         \u001b[0;32mreturn\u001b[0m \u001b[0;34m'C'\u001b[0m\u001b[0;34m\u001b[0m\u001b[0m\n\u001b[0;32m---> 10\u001b[0;31m     \u001b[0;32mraise\u001b[0m \u001b[0mException\u001b[0m\u001b[0;34m(\u001b[0m\u001b[0;34m'Invalid nucleobase {!r}'\u001b[0m\u001b[0;34m.\u001b[0m\u001b[0mformat\u001b[0m\u001b[0;34m(\u001b[0m\u001b[0mc\u001b[0m\u001b[0;34m)\u001b[0m\u001b[0;34m)\u001b[0m\u001b[0;34m\u001b[0m\u001b[0m\n\u001b[0m\u001b[1;32m     11\u001b[0m \u001b[0;34m\u001b[0m\u001b[0m\n\u001b[1;32m     12\u001b[0m \u001b[0mcomplement\u001b[0m\u001b[0;34m(\u001b[0m\u001b[0;34m'X'\u001b[0m\u001b[0;34m)\u001b[0m\u001b[0;34m\u001b[0m\u001b[0m\n",
      "\u001b[0;31mException\u001b[0m: Invalid nucleobase 'X'"
     ]
    }
   ],
   "source": [
    "def complement_seq(dna_seq):\n",
    "    result = ''\n",
    "    for b in dna_seq[::-1]:\n",
    "        c = complement(b)\n",
    "        result += c\n",
    "    return result\n",
    "\n",
    "complement_seq('CAXT')"
   ]
  },
  {
   "cell_type": "markdown",
   "metadata": {},
   "source": [
    "## Catching (or handling) exceptions"
   ]
  },
  {
   "cell_type": "markdown",
   "metadata": {},
   "source": [
    "`pay_me_a_complement` is a client of `complement_seq`.\n",
    "\n",
    "By default, Python will display a stack trace when the user enters an invalid sequence."
   ]
  },
  {
   "cell_type": "code",
   "execution_count": 5,
   "metadata": {
    "scrolled": true
   },
   "outputs": [
    {
     "name": "stdout",
     "output_type": "stream",
     "text": [
      "ACTXG\n"
     ]
    },
    {
     "ename": "Exception",
     "evalue": "Invalid nucleobase 'X'",
     "output_type": "error",
     "traceback": [
      "\u001b[0;31m---------------------------------------------------------------------------\u001b[0m",
      "\u001b[0;31mException\u001b[0m                                 Traceback (most recent call last)",
      "\u001b[0;32m<ipython-input-5-285ae89e71a5>\u001b[0m in \u001b[0;36m<module>\u001b[0;34m()\u001b[0m\n\u001b[1;32m      3\u001b[0m     \u001b[0mprint\u001b[0m\u001b[0;34m(\u001b[0m\u001b[0;34m'The complement is'\u001b[0m\u001b[0;34m,\u001b[0m \u001b[0mcomplement_seq\u001b[0m\u001b[0;34m(\u001b[0m\u001b[0mseq\u001b[0m\u001b[0;34m)\u001b[0m\u001b[0;34m)\u001b[0m\u001b[0;34m\u001b[0m\u001b[0m\n\u001b[1;32m      4\u001b[0m \u001b[0;34m\u001b[0m\u001b[0m\n\u001b[0;32m----> 5\u001b[0;31m \u001b[0mpay_me_a_complement\u001b[0m\u001b[0;34m(\u001b[0m\u001b[0;34m)\u001b[0m\u001b[0;34m\u001b[0m\u001b[0m\n\u001b[0m",
      "\u001b[0;32m<ipython-input-5-285ae89e71a5>\u001b[0m in \u001b[0;36mpay_me_a_complement\u001b[0;34m()\u001b[0m\n\u001b[1;32m      1\u001b[0m \u001b[0;32mdef\u001b[0m \u001b[0mpay_me_a_complement\u001b[0m\u001b[0;34m(\u001b[0m\u001b[0;34m)\u001b[0m\u001b[0;34m:\u001b[0m\u001b[0;34m\u001b[0m\u001b[0m\n\u001b[1;32m      2\u001b[0m     \u001b[0mseq\u001b[0m \u001b[0;34m=\u001b[0m \u001b[0minput\u001b[0m\u001b[0;34m(\u001b[0m\u001b[0;34m)\u001b[0m\u001b[0;34m\u001b[0m\u001b[0m\n\u001b[0;32m----> 3\u001b[0;31m     \u001b[0mprint\u001b[0m\u001b[0;34m(\u001b[0m\u001b[0;34m'The complement is'\u001b[0m\u001b[0;34m,\u001b[0m \u001b[0mcomplement_seq\u001b[0m\u001b[0;34m(\u001b[0m\u001b[0mseq\u001b[0m\u001b[0;34m)\u001b[0m\u001b[0;34m)\u001b[0m\u001b[0;34m\u001b[0m\u001b[0m\n\u001b[0m\u001b[1;32m      4\u001b[0m \u001b[0;34m\u001b[0m\u001b[0m\n\u001b[1;32m      5\u001b[0m \u001b[0mpay_me_a_complement\u001b[0m\u001b[0;34m(\u001b[0m\u001b[0;34m)\u001b[0m\u001b[0;34m\u001b[0m\u001b[0m\n",
      "\u001b[0;32m<ipython-input-4-962e256e1398>\u001b[0m in \u001b[0;36mcomplement_seq\u001b[0;34m(dna_seq)\u001b[0m\n\u001b[1;32m      2\u001b[0m     \u001b[0mresult\u001b[0m \u001b[0;34m=\u001b[0m \u001b[0;34m''\u001b[0m\u001b[0;34m\u001b[0m\u001b[0m\n\u001b[1;32m      3\u001b[0m     \u001b[0;32mfor\u001b[0m \u001b[0mb\u001b[0m \u001b[0;32min\u001b[0m \u001b[0mdna_seq\u001b[0m\u001b[0;34m[\u001b[0m\u001b[0;34m:\u001b[0m\u001b[0;34m:\u001b[0m\u001b[0;34m-\u001b[0m\u001b[0;36m1\u001b[0m\u001b[0;34m]\u001b[0m\u001b[0;34m:\u001b[0m\u001b[0;34m\u001b[0m\u001b[0m\n\u001b[0;32m----> 4\u001b[0;31m         \u001b[0mc\u001b[0m \u001b[0;34m=\u001b[0m \u001b[0mcomplement\u001b[0m\u001b[0;34m(\u001b[0m\u001b[0mb\u001b[0m\u001b[0;34m)\u001b[0m\u001b[0;34m\u001b[0m\u001b[0m\n\u001b[0m\u001b[1;32m      5\u001b[0m         \u001b[0mresult\u001b[0m \u001b[0;34m+=\u001b[0m \u001b[0mc\u001b[0m\u001b[0;34m\u001b[0m\u001b[0m\n\u001b[1;32m      6\u001b[0m     \u001b[0;32mreturn\u001b[0m \u001b[0mresult\u001b[0m\u001b[0;34m\u001b[0m\u001b[0m\n",
      "\u001b[0;32m<ipython-input-3-1bde63f9f552>\u001b[0m in \u001b[0;36mcomplement\u001b[0;34m(c)\u001b[0m\n\u001b[1;32m      8\u001b[0m     \u001b[0;32mif\u001b[0m \u001b[0mc\u001b[0m \u001b[0;34m==\u001b[0m \u001b[0;34m'G'\u001b[0m\u001b[0;34m:\u001b[0m\u001b[0;34m\u001b[0m\u001b[0m\n\u001b[1;32m      9\u001b[0m         \u001b[0;32mreturn\u001b[0m \u001b[0;34m'C'\u001b[0m\u001b[0;34m\u001b[0m\u001b[0m\n\u001b[0;32m---> 10\u001b[0;31m     \u001b[0;32mraise\u001b[0m \u001b[0mException\u001b[0m\u001b[0;34m(\u001b[0m\u001b[0;34m'Invalid nucleobase {!r}'\u001b[0m\u001b[0;34m.\u001b[0m\u001b[0mformat\u001b[0m\u001b[0;34m(\u001b[0m\u001b[0mc\u001b[0m\u001b[0;34m)\u001b[0m\u001b[0;34m)\u001b[0m\u001b[0;34m\u001b[0m\u001b[0m\n\u001b[0m\u001b[1;32m     11\u001b[0m \u001b[0;34m\u001b[0m\u001b[0m\n\u001b[1;32m     12\u001b[0m \u001b[0mcomplement\u001b[0m\u001b[0;34m(\u001b[0m\u001b[0;34m'X'\u001b[0m\u001b[0;34m)\u001b[0m\u001b[0;34m\u001b[0m\u001b[0m\n",
      "\u001b[0;31mException\u001b[0m: Invalid nucleobase 'X'"
     ]
    }
   ],
   "source": [
    "def pay_me_a_complement():\n",
    "    seq = input()\n",
    "    print('The complement is', complement_seq(seq))\n",
    "\n",
    "pay_me_a_complement()"
   ]
  },
  {
   "cell_type": "markdown",
   "metadata": {},
   "source": [
    "We can however deal with exceptions programatically, and try to do something smart when an error occurs. In Python we use the `try…except` pattern to handle exceptions.\n",
    "\n",
    "The following code normally acts exactly the same as the implementation above if the code in the `try` block runs without causing an exception.\n",
    "\n",
    "However, if there is an exception within the `try` block, then the program skips the rest of that block and picks up at the start of the `except` block instead."
   ]
  },
  {
   "cell_type": "code",
   "execution_count": 6,
   "metadata": {},
   "outputs": [
    {
     "name": "stdout",
     "output_type": "stream",
     "text": [
      "CATXC\n",
      "Invalid DNA sequence: CATXC\n",
      "done\n"
     ]
    }
   ],
   "source": [
    "def pay_me_a_complement():\n",
    "    seq = input()\n",
    "    try:\n",
    "        print('The complement is', complement_seq(seq))\n",
    "    except:\n",
    "        print('Invalid DNA sequence: {}'.format(seq))\n",
    "    print('done')\n",
    "\n",
    "pay_me_a_complement()"
   ]
  },
  {
   "cell_type": "markdown",
   "metadata": {},
   "source": [
    "## Be Specific With Exceptions"
   ]
  },
  {
   "cell_type": "markdown",
   "metadata": {},
   "source": [
    "One problem with the previous implementation is that **any** error in the try block (or any function it calls) will be caught by the `except` statement, thereby indiscrimately turning all program errors into an \"Invalid DNA sequence\" message. \n",
    "\n",
    "A naked `except` statement is equivalent to saying `except Exception`. This will catch any exception that is an instance of the class `Exception`, which is every exception in Python.\n",
    "\n",
    "Catching overly broad exceptions like this can mask other problems in your program, and can be incredibly misleading as you're trying to debug."
   ]
  },
  {
   "cell_type": "markdown",
   "metadata": {},
   "source": [
    "In general, you should raise an exception of the appropriate type for the problem that you've encountered, being as specific as possible. Consult the full list of [built-in Exceptions](https://docs.python.org/3/library/exceptions.html) to choose an appropriate type (`ValueError` would be a reasonable choice in this situation).\n",
    "\n",
    "You can then write a more specific `except ValueError` clause, which will catch those errors but let others pass through."
   ]
  },
  {
   "cell_type": "markdown",
   "metadata": {},
   "source": [
    "## Custom Exceptions\n",
    "\n",
    "If you want to be extremely specific with exceptions, you can create your own specific to your application by inheriting from the base `Exception` class. This isn't always necessary (the built-in set along with debugging messages is pretty good), but can be useful for larger programs."
   ]
  },
  {
   "cell_type": "code",
   "execution_count": 7,
   "metadata": {},
   "outputs": [],
   "source": [
    "class InvalidNucleobaseException(Exception):\n",
    "    pass\n",
    "\n",
    "def complement(c):\n",
    "    if c == 'A':\n",
    "        return 'T'\n",
    "    if c == 'T':\n",
    "        return 'A'\n",
    "    if c == 'C':\n",
    "        return 'G'\n",
    "    if c == 'G':\n",
    "        return 'C'\n",
    "    raise InvalidNucleobaseException('Invalid nucleobase {!r}'.format(c))\n"
   ]
  },
  {
   "cell_type": "code",
   "execution_count": 8,
   "metadata": {},
   "outputs": [
    {
     "name": "stdout",
     "output_type": "stream",
     "text": [
      "CATXT\n",
      "Invalid DNA sequence: CATXT\n"
     ]
    }
   ],
   "source": [
    "def pay_me_a_complement():\n",
    "    seq = input()\n",
    "    try:\n",
    "        print('The complement is', complement_seq(seq))\n",
    "    except InvalidNucleobaseException:\n",
    "        print('Invalid DNA sequence: {}'.format(seq))\n",
    "\n",
    "pay_me_a_complement()"
   ]
  },
  {
   "cell_type": "markdown",
   "metadata": {},
   "source": [
    "## One more example\n",
    "\n",
    "Using `try...catch`, we can rewrite our `complement` function more compactly as follows:"
   ]
  },
  {
   "cell_type": "code",
   "execution_count": 19,
   "metadata": {},
   "outputs": [
    {
     "name": "stdout",
     "output_type": "stream",
     "text": [
      "A -> T\n"
     ]
    },
    {
     "ename": "InvalidNucleobaseException",
     "evalue": "Invalid nucleobase 'X'",
     "output_type": "error",
     "traceback": [
      "\u001b[0;31m---------------------------------------------------------------------------\u001b[0m",
      "\u001b[0;31mKeyError\u001b[0m                                  Traceback (most recent call last)",
      "\u001b[0;32m<ipython-input-19-d20d7dad2ea9>\u001b[0m in \u001b[0;36mcomplement\u001b[0;34m(c)\u001b[0m\n\u001b[1;32m      3\u001b[0m     \u001b[0;32mtry\u001b[0m\u001b[0;34m:\u001b[0m  \u001b[0;31m# Better to ask forgiveness than permission...\u001b[0m\u001b[0;34m\u001b[0m\u001b[0m\n\u001b[0;32m----> 4\u001b[0;31m         \u001b[0mcomp\u001b[0m \u001b[0;34m=\u001b[0m \u001b[0mpairs\u001b[0m\u001b[0;34m[\u001b[0m\u001b[0mc\u001b[0m\u001b[0;34m]\u001b[0m\u001b[0;34m\u001b[0m\u001b[0m\n\u001b[0m\u001b[1;32m      5\u001b[0m     \u001b[0;32mexcept\u001b[0m \u001b[0mKeyError\u001b[0m\u001b[0;34m:\u001b[0m\u001b[0;34m\u001b[0m\u001b[0m\n",
      "\u001b[0;31mKeyError\u001b[0m: 'X'",
      "\nDuring handling of the above exception, another exception occurred:\n",
      "\u001b[0;31mInvalidNucleobaseException\u001b[0m                Traceback (most recent call last)",
      "\u001b[0;32m<ipython-input-19-d20d7dad2ea9>\u001b[0m in \u001b[0;36m<module>\u001b[0;34m()\u001b[0m\n\u001b[1;32m      8\u001b[0m \u001b[0;34m\u001b[0m\u001b[0m\n\u001b[1;32m      9\u001b[0m \u001b[0mprint\u001b[0m\u001b[0;34m(\u001b[0m\u001b[0;34m\"A ->\"\u001b[0m\u001b[0;34m,\u001b[0m \u001b[0mcomplement\u001b[0m\u001b[0;34m(\u001b[0m\u001b[0;34m\"A\"\u001b[0m\u001b[0;34m)\u001b[0m\u001b[0;34m)\u001b[0m\u001b[0;34m\u001b[0m\u001b[0m\n\u001b[0;32m---> 10\u001b[0;31m \u001b[0mprint\u001b[0m\u001b[0;34m(\u001b[0m\u001b[0;34m\"X ->\"\u001b[0m\u001b[0;34m,\u001b[0m \u001b[0mcomplement\u001b[0m\u001b[0;34m(\u001b[0m\u001b[0;34m\"X\"\u001b[0m\u001b[0;34m)\u001b[0m\u001b[0;34m)\u001b[0m\u001b[0;34m\u001b[0m\u001b[0m\n\u001b[0m",
      "\u001b[0;32m<ipython-input-19-d20d7dad2ea9>\u001b[0m in \u001b[0;36mcomplement\u001b[0;34m(c)\u001b[0m\n\u001b[1;32m      4\u001b[0m         \u001b[0mcomp\u001b[0m \u001b[0;34m=\u001b[0m \u001b[0mpairs\u001b[0m\u001b[0;34m[\u001b[0m\u001b[0mc\u001b[0m\u001b[0;34m]\u001b[0m\u001b[0;34m\u001b[0m\u001b[0m\n\u001b[1;32m      5\u001b[0m     \u001b[0;32mexcept\u001b[0m \u001b[0mKeyError\u001b[0m\u001b[0;34m:\u001b[0m\u001b[0;34m\u001b[0m\u001b[0m\n\u001b[0;32m----> 6\u001b[0;31m         \u001b[0;32mraise\u001b[0m \u001b[0mInvalidNucleobaseException\u001b[0m\u001b[0;34m(\u001b[0m\u001b[0;34m'Invalid nucleobase {!r}'\u001b[0m\u001b[0;34m.\u001b[0m\u001b[0mformat\u001b[0m\u001b[0;34m(\u001b[0m\u001b[0mc\u001b[0m\u001b[0;34m)\u001b[0m\u001b[0;34m)\u001b[0m\u001b[0;34m\u001b[0m\u001b[0m\n\u001b[0m\u001b[1;32m      7\u001b[0m     \u001b[0;32mreturn\u001b[0m \u001b[0mcomp\u001b[0m\u001b[0;34m\u001b[0m\u001b[0m\n\u001b[1;32m      8\u001b[0m \u001b[0;34m\u001b[0m\u001b[0m\n",
      "\u001b[0;31mInvalidNucleobaseException\u001b[0m: Invalid nucleobase 'X'"
     ]
    }
   ],
   "source": [
    "def complement(c):\n",
    "    pairs = {'A':'T', 'T':'A', 'C':'G', 'G':'C'}\n",
    "    try:  # Better to ask forgiveness than permission...\n",
    "        comp = pairs[c]\n",
    "    except KeyError:\n",
    "        raise InvalidNucleobaseException('Invalid nucleobase {!r}'.format(c))\n",
    "    return comp\n",
    "\n",
    "print(\"A ->\", complement(\"A\"))\n",
    "print(\"X ->\", complement(\"X\"))"
   ]
  },
  {
   "cell_type": "markdown",
   "metadata": {},
   "source": [
    "In this implementation, we try to look up the argument `c` in the `pairs` dictionary. If `c` is a valid nucleobase then this works fine, but if not then the key will not be present in the dictionary, causing a `KeyError`. We then catch that `KeyError` and handle it (in this case by raising a more specific/descriptive error).\n",
    "\n",
    "Note that we've included as little code as possible in the `try...except` block. We don't expect the creation of the `pairs` dictionary to raise an error and we're not prepared to handle it if it does, so it's not included as part of the `try` block.\n",
    "\n",
    "This software pattern is sometimes known as \"better to ask forgiveness than permission\", since it plows ahead assuming the dictionary lookup will succeed (hopefully the common case) and deals with the failure if it occurs. The contrasting approach (checking that the input is valid first) is sometimes called \"look before you leap\":"
   ]
  },
  {
   "cell_type": "code",
   "execution_count": null,
   "metadata": {},
   "outputs": [],
   "source": [
    "def complement(c):\n",
    "    pairs = {'A':'T', 'T':'A', 'C':'G', 'G':'C'}\n",
    "    if c not in pairs:  # Look before you leap...\n",
    "        raise InvalidNucleobaseException('Invalid nucleobase {!r}'.format(c))\n",
    "    return pairs[c]\n",
    "    \n",
    "print(\"A ->\", complement(\"A\"))\n",
    "print(\"X ->\", complement(\"X\"))"
   ]
  },
  {
   "cell_type": "markdown",
   "metadata": {},
   "source": [
    "## Unit Testing\n",
    "\n",
    "We can (and should) also write unit tests to make sure exceptions are raised properly. Recall that the doctest framework simply checks to see if the printed output matches, so the detailed execution trace that is printed whenever an exception is raised would be cumbersome to deal with. Fortunately, [doctest can omit parts of exception output](https://docs.python.org/3/library/doctest.html#what-about-exceptions) to simplify testing:"
   ]
  },
  {
   "cell_type": "code",
   "execution_count": 32,
   "metadata": {},
   "outputs": [
    {
     "data": {
      "text/plain": [
       "TestResults(failed=0, attempted=4)"
      ]
     },
     "execution_count": 32,
     "metadata": {},
     "output_type": "execute_result"
    }
   ],
   "source": [
    "def complement(c):\n",
    "    \"\"\"\n",
    "    Return complementary nucleobase of 'c'.\n",
    "    \n",
    "    >>> complement('A')\n",
    "    'T'\n",
    "    >>> complement('G')\n",
    "    'C'\n",
    "    >>> complement('You look nice today')\n",
    "    Traceback (most recent call last):\n",
    "    ...\n",
    "    InvalidNucleobaseException: Invalid nucleobase 'You look nice today'\n",
    "    >>> complement('C')\n",
    "    'G'\n",
    "    \n",
    "    \"\"\"\n",
    "    pairs = {'A':'T', 'T':'A', 'C':'G', 'G':'C'}\n",
    "    if c not in pairs:\n",
    "        raise InvalidNucleobaseException('Invalid nucleobase {!r}'.format(c))\n",
    "    return pairs[c]\n",
    "    \n",
    "import doctest\n",
    "doctest.testmod()\n",
    "#doctest.run_docstring_examples(complement, globals(), verbose=True)"
   ]
  },
  {
   "cell_type": "markdown",
   "metadata": {},
   "source": [
    "# Summary Guidelines\n",
    "\n",
    " - Use exceptions (not special return values) to deal with runtime errors in your program\n",
    " - Catch exceptions and try to do something to correct them (even if it is just presenting a helpful error message to your user)\n",
    " - Raise the most specific type of exception possible, and catch a specific type of exception (not all exceptions) to avoid masking errors\n",
    " - Wrap as little of your code in the `try...except` clause as possible, so that you don't catch more than you intended"
   ]
  }
 ],
 "metadata": {
  "kernelspec": {
   "display_name": "Python 3",
   "language": "python",
   "name": "python3"
  },
  "language_info": {
   "codemirror_mode": {
    "name": "ipython",
    "version": 3
   },
   "file_extension": ".py",
   "mimetype": "text/x-python",
   "name": "python",
   "nbconvert_exporter": "python",
   "pygments_lexer": "ipython3",
   "version": "3.7.1"
  }
 },
 "nbformat": 4,
 "nbformat_minor": 2
}
